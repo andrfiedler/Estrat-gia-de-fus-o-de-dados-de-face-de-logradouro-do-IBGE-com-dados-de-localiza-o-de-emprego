{
 "cells": [
  {
   "cell_type": "code",
   "execution_count": null,
   "id": "76fba95b",
   "metadata": {},
   "outputs": [],
   "source": [
    "def fetch_census_tracts(code, files_path):\n",
    "    code=str(code)\n",
    "    primeiros_digitos=code[0:1]\n",
    "    file = glob(files_path + '\\\\Census_Tracts_Geographic_Data\\\\*\\\\'+primeiros_digitos+'*.shp')[0]\n",
    "    gdf = gpd.read_file(file)\n",
    "    tracts_gdf = gdf[gdf['CD_GEOCODM']==code].copy()\n",
    "    \n",
    "    return tracts_gdf"
   ]
  }
 ],
 "metadata": {
  "kernelspec": {
   "display_name": "Python 3 (ipykernel)",
   "language": "python",
   "name": "python3"
  },
  "language_info": {
   "codemirror_mode": {
    "name": "ipython",
    "version": 3
   },
   "file_extension": ".py",
   "mimetype": "text/x-python",
   "name": "python",
   "nbconvert_exporter": "python",
   "pygments_lexer": "ipython3",
   "version": "3.9.6"
  }
 },
 "nbformat": 4,
 "nbformat_minor": 5
}
