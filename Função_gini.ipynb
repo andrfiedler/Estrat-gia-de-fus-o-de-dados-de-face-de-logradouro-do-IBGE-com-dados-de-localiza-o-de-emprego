{
 "cells": [
  {
   "cell_type": "code",
   "execution_count": null,
   "id": "60e7506c",
   "metadata": {},
   "outputs": [],
   "source": [
    "def gini(df,attr,weight):\n",
    "    a=[]\n",
    "    for i,row in df.sort_values(attr).iterrows():\n",
    "        if row[weight]!=row[weight]: continue\n",
    "        a+=[row[attr]]*int(row[weight])\n",
    "    y=np.cumsum(a)/sum(a)\n",
    "    x=np.linspace(0,1,len(y))\n",
    "    return (0.5-np.trapz(y,x))/.5"
   ]
  }
 ],
 "metadata": {
  "kernelspec": {
   "display_name": "Python 3 (ipykernel)",
   "language": "python",
   "name": "python3"
  },
  "language_info": {
   "codemirror_mode": {
    "name": "ipython",
    "version": 3
   },
   "file_extension": ".py",
   "mimetype": "text/x-python",
   "name": "python",
   "nbconvert_exporter": "python",
   "pygments_lexer": "ipython3",
   "version": "3.9.6"
  }
 },
 "nbformat": 4,
 "nbformat_minor": 5
}
